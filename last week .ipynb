{
 "cells": [
  {
   "cell_type": "code",
   "execution_count": 1,
   "id": "0e191b18-a225-4935-b0cd-5d72e34e13fd",
   "metadata": {
    "ExecuteTime": {
     "end_time": "2024-04-30T18:35:03.310726800Z",
     "start_time": "2024-04-30T18:34:51.947340600Z"
    }
   },
   "outputs": [
    {
     "ename": "ModuleNotFoundError",
     "evalue": "No module named 'sklearn'",
     "output_type": "error",
     "traceback": [
      "\u001B[1;31m---------------------------------------------------------------------------\u001B[0m",
      "\u001B[1;31mModuleNotFoundError\u001B[0m                       Traceback (most recent call last)",
      "Cell \u001B[1;32mIn[1], line 5\u001B[0m\n\u001B[0;32m      3\u001B[0m \u001B[38;5;28;01mimport\u001B[39;00m \u001B[38;5;21;01mpandas\u001B[39;00m \u001B[38;5;28;01mas\u001B[39;00m \u001B[38;5;21;01mpd\u001B[39;00m\n\u001B[0;32m      4\u001B[0m \u001B[38;5;28;01mfrom\u001B[39;00m \u001B[38;5;21;01mskimage\u001B[39;00m \u001B[38;5;28;01mimport\u001B[39;00m io, color, exposure, filters\n\u001B[1;32m----> 5\u001B[0m \u001B[38;5;28;01mfrom\u001B[39;00m \u001B[38;5;21;01msklearn\u001B[39;00m\u001B[38;5;21;01m.\u001B[39;00m\u001B[38;5;21;01mdecomposition\u001B[39;00m \u001B[38;5;28;01mimport\u001B[39;00m PCA\n\u001B[0;32m      6\u001B[0m \u001B[38;5;28;01mfrom\u001B[39;00m \u001B[38;5;21;01msklearn\u001B[39;00m\u001B[38;5;21;01m.\u001B[39;00m\u001B[38;5;21;01mcluster\u001B[39;00m \u001B[38;5;28;01mimport\u001B[39;00m KMeans,BisectingKMeans,SpectralClustering,AgglomerativeClustering,DBSCAN\n\u001B[0;32m      7\u001B[0m \u001B[38;5;28;01mfrom\u001B[39;00m \u001B[38;5;21;01msklearn\u001B[39;00m\u001B[38;5;21;01m.\u001B[39;00m\u001B[38;5;21;01mmetrics\u001B[39;00m \u001B[38;5;28;01mimport\u001B[39;00m fowlkes_mallows_score,silhouette_score\n",
      "\u001B[1;31mModuleNotFoundError\u001B[0m: No module named 'sklearn'"
     ]
    }
   ],
   "source": [
    "import os\n",
    "import numpy as np\n",
    "import pandas as pd\n",
    "from skimage import io, color, exposure, filters\n",
    "from sklearn.decomposition import PCA\n",
    "from sklearn.cluster import KMeans,BisectingKMeans,SpectralClustering,AgglomerativeClustering,DBSCAN\n",
    "from sklearn.metrics import fowlkes_mallows_score,silhouette_score\n",
    "\n",
    "import warnings \n",
    "warnings.filterwarnings(\"ignore\")"
   ]
  },
  {
   "cell_type": "code",
   "execution_count": null,
   "id": "8c033a94-6c11-4f39-ac7e-35b158bd447a",
   "metadata": {
    "ExecuteTime": {
     "start_time": "2024-04-30T18:35:03.305518800Z"
    }
   },
   "outputs": [],
   "source": [
    "crop_folder=r'Cropped'\n",
    "classes=os.listdir(crop_folder)\n",
    "def edge_histogram(images):\n",
    "    imgs=[]\n",
    "    classs=[]\n",
    "    for idx,pt in enumerate(images):\n",
    "        path = os.path.join(crop_folder,pt)\n",
    "        for img in os.listdir(path):\n",
    "            src_pt = os.path.join(path, img)\n",
    "            image = io.imread(src_pt)\n",
    "            gray_img = color.rgb2gray(image)\n",
    "            dx, dy = filters.sobel_h(gray_img), filters.sobel_v(gray_img)\n",
    "            angle_sobel = np.mod(np.arctan2(dy, dx), np.pi)\n",
    "            hist, bins = exposure.histogram(angle_sobel, nbins=36)\n",
    "            hist=hist/np.sum(hist)\n",
    "            imgs.append(hist)\n",
    "            classs.append(idx)\n",
    "            \n",
    "    imgs=np.array(imgs)\n",
    "    classs=np.array(classs)\n",
    "    return imgs,classs\n",
    "\n",
    "imgs,classs=edge_histogram(classes)"
   ]
  },
  {
   "cell_type": "code",
   "execution_count": null,
   "id": "0fdcf43b-1a86-47a6-a55f-63b1c0664e90",
   "metadata": {
    "ExecuteTime": {
     "start_time": "2024-04-30T18:35:03.310726800Z"
    }
   },
   "outputs": [],
   "source": [
    "pca=PCA(n_components=2)\n",
    "imgs=pca.fit_transform(imgs)"
   ]
  },
  {
   "cell_type": "code",
   "execution_count": null,
   "id": "0a58af68-bccf-4762-8d15-56facc65bd75",
   "metadata": {
    "ExecuteTime": {
     "end_time": "2024-04-30T18:35:04.228592500Z",
     "start_time": "2024-04-30T18:35:03.316056200Z"
    }
   },
   "outputs": [],
   "source": [
    "#K-mean clustering and its variants for 𝐾 = 4: init=random\n",
    "\n",
    "model= KMeans(init=\"random\",n_clusters=4)\n",
    "model.fit(imgs)\n",
    "print(\"fowlkes_mallows_score :\"+str(fowlkes_mallows_score(classs,model.labels_)))\n",
    "print(\"silhouette_score :\"+str(silhouette_score(imgs,model.labels_)))"
   ]
  },
  {
   "cell_type": "code",
   "execution_count": null,
   "id": "dfd48c2b-86de-4db8-926d-56991c7f42a8",
   "metadata": {
    "ExecuteTime": {
     "start_time": "2024-04-30T18:35:03.389484700Z"
    }
   },
   "outputs": [],
   "source": [
    "#init = kmeans++\n",
    "model= KMeans(init=\"k-means++\",n_clusters=4)\n",
    "model.fit(imgs)\n",
    "print(\"fowlkes_mallows_score :\"+str(fowlkes_mallows_score(classs,model.labels_)))\n",
    "print(\"silhouette_score :\"+str(silhouette_score(imgs,model.labels_)))"
   ]
  },
  {
   "cell_type": "code",
   "execution_count": null,
   "id": "66ed03c6-ca6d-4edd-a78f-a92d7c293ea8",
   "metadata": {
    "ExecuteTime": {
     "start_time": "2024-04-30T18:35:03.390482Z"
    }
   },
   "outputs": [],
   "source": [
    "#Bisecting K-means\n",
    "model= BisectingKMeans(init=\"random\",n_clusters=4)\n",
    "model.fit(imgs)\n",
    "print(\"fowlkes_mallows_score :\"+str(fowlkes_mallows_score(classs,model.labels_)))\n",
    "print(\"silhouette_score :\"+str(silhouette_score(imgs,model.labels_)))"
   ]
  },
  {
   "cell_type": "code",
   "execution_count": null,
   "id": "3f45efb2-e8d3-4625-87fc-92f42f7f31b2",
   "metadata": {
    "ExecuteTime": {
     "start_time": "2024-04-30T18:35:03.391565500Z"
    }
   },
   "outputs": [],
   "source": [
    "#spectral clustering\n",
    "model= SpectralClustering(n_clusters=4)\n",
    "model.fit(imgs)\n",
    "print(\"fowlkes_mallows_score :\"+str(fowlkes_mallows_score(classs,model.labels_)))\n",
    "print(\"silhouette_score :\"+str(silhouette_score(imgs,model.labels_)))"
   ]
  },
  {
   "cell_type": "code",
   "execution_count": null,
   "id": "8d155fc1-2a8e-4b05-9acd-0cd76b78cc62",
   "metadata": {
    "ExecuteTime": {
     "start_time": "2024-04-30T18:35:03.392562800Z"
    }
   },
   "outputs": [],
   "source": [
    "#DBSCAN\n",
    "model = DBSCAN(eps=0.0169, min_samples=2).fit(imgs)\n",
    "labels = model.labels_\n",
    "# Number of clusters in labels, ignoring noise if present.\n",
    "n_clusters_ = len(set(labels)) - (1 if -1 in labels else 0)\n",
    "print(\"Estimated number of clusters: %d\" % n_clusters_)\n",
    "print(\"eps_used : %.4f\" % model.eps)\n",
    "print(\"min_samples : %d \" % model.min_samples)\n",
    "print(\"fowlkes_mallows_score :\"+str(fowlkes_mallows_score(classs,labels)))\n",
    "print(\"silhouette_score :\"+str(silhouette_score(imgs,labels)))"
   ]
  },
  {
   "cell_type": "code",
   "execution_count": null,
   "id": "f23e329a-0bb4-47d5-bb32-345f3623ad7e",
   "metadata": {
    "ExecuteTime": {
     "start_time": "2024-04-30T18:35:03.392562800Z"
    }
   },
   "outputs": [],
   "source": [
    "#Agglomerative clustering \n",
    "link=[]\n",
    "sc=[]\n",
    "fol=[]\n",
    "for init in [ \"single\",\"complete\", \"average\",\"ward\"]:\n",
    "    model = AgglomerativeClustering(n_clusters=4,linkage=init)\n",
    "    predict=model.fit_predict(imgs)\n",
    "    link.append(init)\n",
    "    sc.append(silhouette_score(imgs,predict))\n",
    "    fol.append(fowlkes_mallows_score(classs,predict))\n",
    "score=pd.DataFrame({'link': link, 'silhouette': sc , 'fowlkes': fol})\n",
    "score"
   ]
  },
  {
   "cell_type": "markdown",
   "id": "8ce665d8-0a20-4190-bdb5-d4c9cc12807c",
   "metadata": {},
   "source": [
    "##### Based on fowlkes score best to worst : agglomerative single ,Average,DBSCAN,complete,spectral,ward,k-means++,random,bisecting"
   ]
  },
  {
   "cell_type": "markdown",
   "id": "74e23458-7f6c-49e2-b08c-c53c08f7d147",
   "metadata": {},
   "source": [
    "##### Based on fowlkes score best to worst : agglomerative single ,Average,DBSCAN,ward,k-means++,random,bisecting,complete,spectral"
   ]
  },
  {
   "cell_type": "code",
   "execution_count": null,
   "id": "bc77c3d3-be68-4843-837c-4cc7abbcff60",
   "metadata": {
    "ExecuteTime": {
     "start_time": "2024-04-30T18:35:03.393642900Z"
    }
   },
   "outputs": [],
   "source": []
  }
 ],
 "metadata": {
  "kernelspec": {
   "display_name": "Python 3 (ipykernel)",
   "language": "python",
   "name": "python3"
  },
  "language_info": {
   "codemirror_mode": {
    "name": "ipython",
    "version": 3
   },
   "file_extension": ".py",
   "mimetype": "text/x-python",
   "name": "python",
   "nbconvert_exporter": "python",
   "pygments_lexer": "ipython3",
   "version": "3.11.0"
  }
 },
 "nbformat": 4,
 "nbformat_minor": 5
}
